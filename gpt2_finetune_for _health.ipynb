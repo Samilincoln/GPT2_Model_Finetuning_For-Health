{
 "cells": [
  {
   "cell_type": "code",
   "execution_count": 10,
   "metadata": {},
   "outputs": [
    {
     "name": "stdout",
     "output_type": "stream",
     "text": [
      "^C\n",
      "Note: you may need to restart the kernel to use updated packages.\n"
     ]
    },
    {
     "name": "stdout",
     "output_type": "stream",
     "text": [
      "Requirement already satisfied: transformers[torch] in c:\\users\\agboo\\.conda\\envs\\openvino\\lib\\site-packages (4.50.1)\n",
      "Requirement already satisfied: filelock in c:\\users\\agboo\\.conda\\envs\\openvino\\lib\\site-packages (from transformers[torch]) (3.18.0)\n",
      "Requirement already satisfied: huggingface-hub<1.0,>=0.26.0 in c:\\users\\agboo\\.conda\\envs\\openvino\\lib\\site-packages (from transformers[torch]) (0.29.3)\n",
      "Requirement already satisfied: numpy>=1.17 in c:\\users\\agboo\\.conda\\envs\\openvino\\lib\\site-packages (from transformers[torch]) (2.1.3)\n",
      "Requirement already satisfied: packaging>=20.0 in c:\\users\\agboo\\.conda\\envs\\openvino\\lib\\site-packages (from transformers[torch]) (24.2)\n",
      "Requirement already satisfied: pyyaml>=5.1 in c:\\users\\agboo\\.conda\\envs\\openvino\\lib\\site-packages (from transformers[torch]) (6.0.2)\n",
      "Requirement already satisfied: regex!=2019.12.17 in c:\\users\\agboo\\.conda\\envs\\openvino\\lib\\site-packages (from transformers[torch]) (2024.11.6)\n",
      "Requirement already satisfied: requests in c:\\users\\agboo\\.conda\\envs\\openvino\\lib\\site-packages (from transformers[torch]) (2.32.3)\n",
      "Requirement already satisfied: tokenizers<0.22,>=0.21 in c:\\users\\agboo\\.conda\\envs\\openvino\\lib\\site-packages (from transformers[torch]) (0.21.1)\n",
      "Requirement already satisfied: safetensors>=0.4.3 in c:\\users\\agboo\\.conda\\envs\\openvino\\lib\\site-packages (from transformers[torch]) (0.5.3)\n",
      "Requirement already satisfied: tqdm>=4.27 in c:\\users\\agboo\\.conda\\envs\\openvino\\lib\\site-packages (from transformers[torch]) (4.67.1)\n",
      "Requirement already satisfied: torch>=2.0 in c:\\users\\agboo\\.conda\\envs\\openvino\\lib\\site-packages (from transformers[torch]) (2.6.0)\n",
      "Requirement already satisfied: accelerate>=0.26.0 in c:\\users\\agboo\\.conda\\envs\\openvino\\lib\\site-packages (from transformers[torch]) (1.5.2)\n",
      "Requirement already satisfied: psutil in c:\\users\\agboo\\.conda\\envs\\openvino\\lib\\site-packages (from accelerate>=0.26.0->transformers[torch]) (7.0.0)\n",
      "Requirement already satisfied: fsspec>=2023.5.0 in c:\\users\\agboo\\.conda\\envs\\openvino\\lib\\site-packages (from huggingface-hub<1.0,>=0.26.0->transformers[torch]) (2025.3.0)\n",
      "Requirement already satisfied: typing-extensions>=3.7.4.3 in c:\\users\\agboo\\.conda\\envs\\openvino\\lib\\site-packages (from huggingface-hub<1.0,>=0.26.0->transformers[torch]) (4.12.2)\n",
      "Requirement already satisfied: networkx in c:\\users\\agboo\\.conda\\envs\\openvino\\lib\\site-packages (from torch>=2.0->transformers[torch]) (3.4.2)\n",
      "Requirement already satisfied: jinja2 in c:\\users\\agboo\\.conda\\envs\\openvino\\lib\\site-packages (from torch>=2.0->transformers[torch]) (3.1.6)\n",
      "Requirement already satisfied: sympy==1.13.1 in c:\\users\\agboo\\.conda\\envs\\openvino\\lib\\site-packages (from torch>=2.0->transformers[torch]) (1.13.1)\n",
      "Requirement already satisfied: mpmath<1.4,>=1.1.0 in c:\\users\\agboo\\.conda\\envs\\openvino\\lib\\site-packages (from sympy==1.13.1->torch>=2.0->transformers[torch]) (1.3.0)\n",
      "Requirement already satisfied: colorama in c:\\users\\agboo\\.conda\\envs\\openvino\\lib\\site-packages (from tqdm>=4.27->transformers[torch]) (0.4.6)\n",
      "Requirement already satisfied: charset-normalizer<4,>=2 in c:\\users\\agboo\\.conda\\envs\\openvino\\lib\\site-packages (from requests->transformers[torch]) (3.4.1)\n",
      "Requirement already satisfied: idna<4,>=2.5 in c:\\users\\agboo\\.conda\\envs\\openvino\\lib\\site-packages (from requests->transformers[torch]) (3.10)\n",
      "Requirement already satisfied: urllib3<3,>=1.21.1 in c:\\users\\agboo\\.conda\\envs\\openvino\\lib\\site-packages (from requests->transformers[torch]) (2.3.0)\n",
      "Requirement already satisfied: certifi>=2017.4.17 in c:\\users\\agboo\\.conda\\envs\\openvino\\lib\\site-packages (from requests->transformers[torch]) (2025.1.31)\n",
      "Requirement already satisfied: MarkupSafe>=2.0 in c:\\users\\agboo\\.conda\\envs\\openvino\\lib\\site-packages (from jinja2->torch>=2.0->transformers[torch]) (3.0.2)\n"
     ]
    }
   ],
   "source": [
    "pip install transformers[torch]"
   ]
  },
  {
   "cell_type": "code",
   "execution_count": 24,
   "metadata": {},
   "outputs": [
    {
     "name": "stdout",
     "output_type": "stream",
     "text": [
      "Requirement already satisfied: tf-keras in c:\\users\\agboo\\.conda\\envs\\openvino\\lib\\site-packages (2.19.0)\n",
      "Requirement already satisfied: tensorflow<2.20,>=2.19 in c:\\users\\agboo\\.conda\\envs\\openvino\\lib\\site-packages (from tf-keras) (2.19.0)\n",
      "Requirement already satisfied: absl-py>=1.0.0 in c:\\users\\agboo\\.conda\\envs\\openvino\\lib\\site-packages (from tensorflow<2.20,>=2.19->tf-keras) (2.2.0)\n",
      "Requirement already satisfied: astunparse>=1.6.0 in c:\\users\\agboo\\.conda\\envs\\openvino\\lib\\site-packages (from tensorflow<2.20,>=2.19->tf-keras) (1.6.3)\n",
      "Requirement already satisfied: flatbuffers>=24.3.25 in c:\\users\\agboo\\.conda\\envs\\openvino\\lib\\site-packages (from tensorflow<2.20,>=2.19->tf-keras) (25.2.10)\n",
      "Requirement already satisfied: gast!=0.5.0,!=0.5.1,!=0.5.2,>=0.2.1 in c:\\users\\agboo\\.conda\\envs\\openvino\\lib\\site-packages (from tensorflow<2.20,>=2.19->tf-keras) (0.6.0)\n",
      "Requirement already satisfied: google-pasta>=0.1.1 in c:\\users\\agboo\\.conda\\envs\\openvino\\lib\\site-packages (from tensorflow<2.20,>=2.19->tf-keras) (0.2.0)\n",
      "Requirement already satisfied: libclang>=13.0.0 in c:\\users\\agboo\\.conda\\envs\\openvino\\lib\\site-packages (from tensorflow<2.20,>=2.19->tf-keras) (18.1.1)\n",
      "Requirement already satisfied: opt-einsum>=2.3.2 in c:\\users\\agboo\\.conda\\envs\\openvino\\lib\\site-packages (from tensorflow<2.20,>=2.19->tf-keras) (3.4.0)\n",
      "Requirement already satisfied: packaging in c:\\users\\agboo\\.conda\\envs\\openvino\\lib\\site-packages (from tensorflow<2.20,>=2.19->tf-keras) (24.2)\n",
      "Requirement already satisfied: protobuf!=4.21.0,!=4.21.1,!=4.21.2,!=4.21.3,!=4.21.4,!=4.21.5,<6.0.0dev,>=3.20.3 in c:\\users\\agboo\\.conda\\envs\\openvino\\lib\\site-packages (from tensorflow<2.20,>=2.19->tf-keras) (3.20.3)\n",
      "Requirement already satisfied: requests<3,>=2.21.0 in c:\\users\\agboo\\.conda\\envs\\openvino\\lib\\site-packages (from tensorflow<2.20,>=2.19->tf-keras) (2.32.3)\n",
      "Requirement already satisfied: setuptools in c:\\users\\agboo\\.conda\\envs\\openvino\\lib\\site-packages (from tensorflow<2.20,>=2.19->tf-keras) (75.8.0)\n",
      "Requirement already satisfied: six>=1.12.0 in c:\\users\\agboo\\.conda\\envs\\openvino\\lib\\site-packages (from tensorflow<2.20,>=2.19->tf-keras) (1.17.0)\n",
      "Requirement already satisfied: termcolor>=1.1.0 in c:\\users\\agboo\\.conda\\envs\\openvino\\lib\\site-packages (from tensorflow<2.20,>=2.19->tf-keras) (2.5.0)\n",
      "Requirement already satisfied: typing-extensions>=3.6.6 in c:\\users\\agboo\\.conda\\envs\\openvino\\lib\\site-packages (from tensorflow<2.20,>=2.19->tf-keras) (4.12.2)\n",
      "Requirement already satisfied: wrapt>=1.11.0 in c:\\users\\agboo\\.conda\\envs\\openvino\\lib\\site-packages (from tensorflow<2.20,>=2.19->tf-keras) (1.17.2)\n",
      "Requirement already satisfied: grpcio<2.0,>=1.24.3 in c:\\users\\agboo\\.conda\\envs\\openvino\\lib\\site-packages (from tensorflow<2.20,>=2.19->tf-keras) (1.71.0)\n",
      "Requirement already satisfied: tensorboard~=2.19.0 in c:\\users\\agboo\\.conda\\envs\\openvino\\lib\\site-packages (from tensorflow<2.20,>=2.19->tf-keras) (2.19.0)\n",
      "Requirement already satisfied: keras>=3.5.0 in c:\\users\\agboo\\.conda\\envs\\openvino\\lib\\site-packages (from tensorflow<2.20,>=2.19->tf-keras) (3.9.0)\n",
      "Requirement already satisfied: numpy<2.2.0,>=1.26.0 in c:\\users\\agboo\\.conda\\envs\\openvino\\lib\\site-packages (from tensorflow<2.20,>=2.19->tf-keras) (2.1.3)\n",
      "Requirement already satisfied: h5py>=3.11.0 in c:\\users\\agboo\\.conda\\envs\\openvino\\lib\\site-packages (from tensorflow<2.20,>=2.19->tf-keras) (3.13.0)\n",
      "Requirement already satisfied: ml-dtypes<1.0.0,>=0.5.1 in c:\\users\\agboo\\.conda\\envs\\openvino\\lib\\site-packages (from tensorflow<2.20,>=2.19->tf-keras) (0.5.1)\n",
      "Requirement already satisfied: tensorflow-io-gcs-filesystem>=0.23.1 in c:\\users\\agboo\\.conda\\envs\\openvino\\lib\\site-packages (from tensorflow<2.20,>=2.19->tf-keras) (0.31.0)\n",
      "Requirement already satisfied: wheel<1.0,>=0.23.0 in c:\\users\\agboo\\.conda\\envs\\openvino\\lib\\site-packages (from astunparse>=1.6.0->tensorflow<2.20,>=2.19->tf-keras) (0.45.1)\n",
      "Requirement already satisfied: rich in c:\\users\\agboo\\.conda\\envs\\openvino\\lib\\site-packages (from keras>=3.5.0->tensorflow<2.20,>=2.19->tf-keras) (13.9.4)\n",
      "Requirement already satisfied: namex in c:\\users\\agboo\\.conda\\envs\\openvino\\lib\\site-packages (from keras>=3.5.0->tensorflow<2.20,>=2.19->tf-keras) (0.0.8)\n",
      "Requirement already satisfied: optree in c:\\users\\agboo\\.conda\\envs\\openvino\\lib\\site-packages (from keras>=3.5.0->tensorflow<2.20,>=2.19->tf-keras) (0.14.1)\n",
      "Requirement already satisfied: charset-normalizer<4,>=2 in c:\\users\\agboo\\.conda\\envs\\openvino\\lib\\site-packages (from requests<3,>=2.21.0->tensorflow<2.20,>=2.19->tf-keras) (3.4.1)\n",
      "Requirement already satisfied: idna<4,>=2.5 in c:\\users\\agboo\\.conda\\envs\\openvino\\lib\\site-packages (from requests<3,>=2.21.0->tensorflow<2.20,>=2.19->tf-keras) (3.10)\n",
      "Requirement already satisfied: urllib3<3,>=1.21.1 in c:\\users\\agboo\\.conda\\envs\\openvino\\lib\\site-packages (from requests<3,>=2.21.0->tensorflow<2.20,>=2.19->tf-keras) (2.3.0)\n",
      "Requirement already satisfied: certifi>=2017.4.17 in c:\\users\\agboo\\.conda\\envs\\openvino\\lib\\site-packages (from requests<3,>=2.21.0->tensorflow<2.20,>=2.19->tf-keras) (2025.1.31)\n",
      "Requirement already satisfied: markdown>=2.6.8 in c:\\users\\agboo\\.conda\\envs\\openvino\\lib\\site-packages (from tensorboard~=2.19.0->tensorflow<2.20,>=2.19->tf-keras) (3.7)\n",
      "Requirement already satisfied: tensorboard-data-server<0.8.0,>=0.7.0 in c:\\users\\agboo\\.conda\\envs\\openvino\\lib\\site-packages (from tensorboard~=2.19.0->tensorflow<2.20,>=2.19->tf-keras) (0.7.2)\n",
      "Requirement already satisfied: werkzeug>=1.0.1 in c:\\users\\agboo\\.conda\\envs\\openvino\\lib\\site-packages (from tensorboard~=2.19.0->tensorflow<2.20,>=2.19->tf-keras) (3.1.3)\n",
      "Requirement already satisfied: MarkupSafe>=2.1.1 in c:\\users\\agboo\\.conda\\envs\\openvino\\lib\\site-packages (from werkzeug>=1.0.1->tensorboard~=2.19.0->tensorflow<2.20,>=2.19->tf-keras) (3.0.2)\n",
      "Requirement already satisfied: markdown-it-py>=2.2.0 in c:\\users\\agboo\\.conda\\envs\\openvino\\lib\\site-packages (from rich->keras>=3.5.0->tensorflow<2.20,>=2.19->tf-keras) (3.0.0)\n",
      "Requirement already satisfied: pygments<3.0.0,>=2.13.0 in c:\\users\\agboo\\.conda\\envs\\openvino\\lib\\site-packages (from rich->keras>=3.5.0->tensorflow<2.20,>=2.19->tf-keras) (2.19.1)\n",
      "Requirement already satisfied: mdurl~=0.1 in c:\\users\\agboo\\.conda\\envs\\openvino\\lib\\site-packages (from markdown-it-py>=2.2.0->rich->keras>=3.5.0->tensorflow<2.20,>=2.19->tf-keras) (0.1.2)\n",
      "Note: you may need to restart the kernel to use updated packages.\n"
     ]
    }
   ],
   "source": [
    "pip install tf-keras\n"
   ]
  },
  {
   "cell_type": "code",
   "execution_count": 33,
   "metadata": {},
   "outputs": [
    {
     "name": "stdout",
     "output_type": "stream",
     "text": [
      "Requirement already satisfied: datasets in c:\\users\\agboo\\.conda\\envs\\openvino\\lib\\site-packages (3.4.1)\n",
      "Collecting scikit-learn\n",
      "  Downloading scikit_learn-1.6.1-cp310-cp310-win_amd64.whl.metadata (15 kB)\n",
      "Requirement already satisfied: filelock in c:\\users\\agboo\\.conda\\envs\\openvino\\lib\\site-packages (from datasets) (3.18.0)\n",
      "Requirement already satisfied: numpy>=1.17 in c:\\users\\agboo\\.conda\\envs\\openvino\\lib\\site-packages (from datasets) (2.1.3)\n",
      "Requirement already satisfied: pyarrow>=15.0.0 in c:\\users\\agboo\\.conda\\envs\\openvino\\lib\\site-packages (from datasets) (19.0.1)\n",
      "Requirement already satisfied: dill<0.3.9,>=0.3.0 in c:\\users\\agboo\\.conda\\envs\\openvino\\lib\\site-packages (from datasets) (0.3.8)\n",
      "Requirement already satisfied: pandas in c:\\users\\agboo\\.conda\\envs\\openvino\\lib\\site-packages (from datasets) (2.2.3)\n",
      "Requirement already satisfied: requests>=2.32.2 in c:\\users\\agboo\\.conda\\envs\\openvino\\lib\\site-packages (from datasets) (2.32.3)\n",
      "Requirement already satisfied: tqdm>=4.66.3 in c:\\users\\agboo\\.conda\\envs\\openvino\\lib\\site-packages (from datasets) (4.67.1)\n",
      "Requirement already satisfied: xxhash in c:\\users\\agboo\\.conda\\envs\\openvino\\lib\\site-packages (from datasets) (3.5.0)\n",
      "Requirement already satisfied: multiprocess<0.70.17 in c:\\users\\agboo\\.conda\\envs\\openvino\\lib\\site-packages (from datasets) (0.70.16)\n",
      "Requirement already satisfied: fsspec<=2024.12.0,>=2023.1.0 in c:\\users\\agboo\\.conda\\envs\\openvino\\lib\\site-packages (from fsspec[http]<=2024.12.0,>=2023.1.0->datasets) (2024.12.0)\n",
      "Requirement already satisfied: aiohttp in c:\\users\\agboo\\.conda\\envs\\openvino\\lib\\site-packages (from datasets) (3.11.14)\n",
      "Requirement already satisfied: huggingface-hub>=0.24.0 in c:\\users\\agboo\\.conda\\envs\\openvino\\lib\\site-packages (from datasets) (0.29.3)\n",
      "Requirement already satisfied: packaging in c:\\users\\agboo\\.conda\\envs\\openvino\\lib\\site-packages (from datasets) (24.2)\n",
      "Requirement already satisfied: pyyaml>=5.1 in c:\\users\\agboo\\.conda\\envs\\openvino\\lib\\site-packages (from datasets) (6.0.2)\n",
      "Collecting scipy>=1.6.0 (from scikit-learn)\n",
      "  Downloading scipy-1.15.2-cp310-cp310-win_amd64.whl.metadata (60 kB)\n",
      "Collecting joblib>=1.2.0 (from scikit-learn)\n",
      "  Using cached joblib-1.4.2-py3-none-any.whl.metadata (5.4 kB)\n",
      "Collecting threadpoolctl>=3.1.0 (from scikit-learn)\n",
      "  Downloading threadpoolctl-3.6.0-py3-none-any.whl.metadata (13 kB)\n",
      "Requirement already satisfied: aiohappyeyeballs>=2.3.0 in c:\\users\\agboo\\.conda\\envs\\openvino\\lib\\site-packages (from aiohttp->datasets) (2.6.1)\n",
      "Requirement already satisfied: aiosignal>=1.1.2 in c:\\users\\agboo\\.conda\\envs\\openvino\\lib\\site-packages (from aiohttp->datasets) (1.3.2)\n",
      "Requirement already satisfied: async-timeout<6.0,>=4.0 in c:\\users\\agboo\\.conda\\envs\\openvino\\lib\\site-packages (from aiohttp->datasets) (5.0.1)\n",
      "Requirement already satisfied: attrs>=17.3.0 in c:\\users\\agboo\\.conda\\envs\\openvino\\lib\\site-packages (from aiohttp->datasets) (25.3.0)\n",
      "Requirement already satisfied: frozenlist>=1.1.1 in c:\\users\\agboo\\.conda\\envs\\openvino\\lib\\site-packages (from aiohttp->datasets) (1.5.0)\n",
      "Requirement already satisfied: multidict<7.0,>=4.5 in c:\\users\\agboo\\.conda\\envs\\openvino\\lib\\site-packages (from aiohttp->datasets) (6.2.0)\n",
      "Requirement already satisfied: propcache>=0.2.0 in c:\\users\\agboo\\.conda\\envs\\openvino\\lib\\site-packages (from aiohttp->datasets) (0.3.1)\n",
      "Requirement already satisfied: yarl<2.0,>=1.17.0 in c:\\users\\agboo\\.conda\\envs\\openvino\\lib\\site-packages (from aiohttp->datasets) (1.18.3)\n",
      "Requirement already satisfied: typing-extensions>=3.7.4.3 in c:\\users\\agboo\\.conda\\envs\\openvino\\lib\\site-packages (from huggingface-hub>=0.24.0->datasets) (4.12.2)\n",
      "Requirement already satisfied: charset-normalizer<4,>=2 in c:\\users\\agboo\\.conda\\envs\\openvino\\lib\\site-packages (from requests>=2.32.2->datasets) (3.4.1)\n",
      "Requirement already satisfied: idna<4,>=2.5 in c:\\users\\agboo\\.conda\\envs\\openvino\\lib\\site-packages (from requests>=2.32.2->datasets) (3.10)\n",
      "Requirement already satisfied: urllib3<3,>=1.21.1 in c:\\users\\agboo\\.conda\\envs\\openvino\\lib\\site-packages (from requests>=2.32.2->datasets) (2.3.0)\n",
      "Requirement already satisfied: certifi>=2017.4.17 in c:\\users\\agboo\\.conda\\envs\\openvino\\lib\\site-packages (from requests>=2.32.2->datasets) (2025.1.31)\n",
      "Requirement already satisfied: colorama in c:\\users\\agboo\\.conda\\envs\\openvino\\lib\\site-packages (from tqdm>=4.66.3->datasets) (0.4.6)\n",
      "Requirement already satisfied: python-dateutil>=2.8.2 in c:\\users\\agboo\\.conda\\envs\\openvino\\lib\\site-packages (from pandas->datasets) (2.9.0.post0)\n",
      "Requirement already satisfied: pytz>=2020.1 in c:\\users\\agboo\\.conda\\envs\\openvino\\lib\\site-packages (from pandas->datasets) (2025.2)\n",
      "Requirement already satisfied: tzdata>=2022.7 in c:\\users\\agboo\\.conda\\envs\\openvino\\lib\\site-packages (from pandas->datasets) (2025.2)\n",
      "Requirement already satisfied: six>=1.5 in c:\\users\\agboo\\.conda\\envs\\openvino\\lib\\site-packages (from python-dateutil>=2.8.2->pandas->datasets) (1.17.0)\n",
      "Downloading scikit_learn-1.6.1-cp310-cp310-win_amd64.whl (11.1 MB)\n",
      "   ---------------------------------------- 0.0/11.1 MB ? eta -:--:--\n",
      "   ---------------------------------------- 0.0/11.1 MB ? eta -:--:--\n",
      "    --------------------------------------- 0.3/11.1 MB ? eta -:--:--\n",
      "   - -------------------------------------- 0.5/11.1 MB 1.4 MB/s eta 0:00:08\n",
      "   --- ------------------------------------ 1.0/11.1 MB 1.6 MB/s eta 0:00:07\n",
      "   ---- ----------------------------------- 1.3/11.1 MB 1.5 MB/s eta 0:00:07\n",
      "   ------ --------------------------------- 1.8/11.1 MB 1.7 MB/s eta 0:00:06\n",
      "   ------- -------------------------------- 2.1/11.1 MB 1.7 MB/s eta 0:00:06\n",
      "   --------- ------------------------------ 2.6/11.1 MB 1.8 MB/s eta 0:00:05\n",
      "   ----------- ---------------------------- 3.1/11.1 MB 1.8 MB/s eta 0:00:05\n",
      "   ------------- -------------------------- 3.7/11.1 MB 1.9 MB/s eta 0:00:04\n",
      "   --------------- ------------------------ 4.2/11.1 MB 2.0 MB/s eta 0:00:04\n",
      "   ---------------- ----------------------- 4.5/11.1 MB 1.9 MB/s eta 0:00:04\n",
      "   ----------------- ---------------------- 5.0/11.1 MB 2.0 MB/s eta 0:00:04\n",
      "   -------------------- ------------------- 5.8/11.1 MB 2.1 MB/s eta 0:00:03\n",
      "   ---------------------- ----------------- 6.3/11.1 MB 2.1 MB/s eta 0:00:03\n",
      "   ------------------------ --------------- 6.8/11.1 MB 2.1 MB/s eta 0:00:03\n",
      "   -------------------------- ------------- 7.3/11.1 MB 2.1 MB/s eta 0:00:02\n",
      "   ---------------------------- ----------- 7.9/11.1 MB 2.1 MB/s eta 0:00:02\n",
      "   ----------------------------- ---------- 8.1/11.1 MB 2.1 MB/s eta 0:00:02\n",
      "   ------------------------------- -------- 8.7/11.1 MB 2.1 MB/s eta 0:00:02\n",
      "   -------------------------------- ------- 9.2/11.1 MB 2.2 MB/s eta 0:00:01\n",
      "   ---------------------------------- ----- 9.7/11.1 MB 2.2 MB/s eta 0:00:01\n",
      "   ----------------------------------- ---- 10.0/11.1 MB 2.1 MB/s eta 0:00:01\n",
      "   ------------------------------------ --- 10.2/11.1 MB 2.1 MB/s eta 0:00:01\n",
      "   -------------------------------------- - 10.7/11.1 MB 2.1 MB/s eta 0:00:01\n",
      "   ---------------------------------------  11.0/11.1 MB 2.0 MB/s eta 0:00:01\n",
      "   ---------------------------------------- 11.1/11.1 MB 2.0 MB/s eta 0:00:00\n",
      "Using cached joblib-1.4.2-py3-none-any.whl (301 kB)\n",
      "Downloading scipy-1.15.2-cp310-cp310-win_amd64.whl (41.2 MB)\n",
      "   ---------------------------------------- 0.0/41.2 MB ? eta -:--:--\n",
      "   ---------------------------------------- 0.3/41.2 MB ? eta -:--:--\n",
      "    --------------------------------------- 0.8/41.2 MB 2.2 MB/s eta 0:00:19\n",
      "   - -------------------------------------- 1.0/41.2 MB 1.9 MB/s eta 0:00:22\n",
      "   - -------------------------------------- 1.6/41.2 MB 2.0 MB/s eta 0:00:20\n",
      "   -- ------------------------------------- 2.1/41.2 MB 2.1 MB/s eta 0:00:19\n",
      "   -- ------------------------------------- 2.4/41.2 MB 2.2 MB/s eta 0:00:18\n",
      "   -- ------------------------------------- 2.9/41.2 MB 2.2 MB/s eta 0:00:18\n",
      "   --- ------------------------------------ 3.4/41.2 MB 2.1 MB/s eta 0:00:19\n",
      "   --- ------------------------------------ 3.9/41.2 MB 2.1 MB/s eta 0:00:18\n",
      "   ---- ----------------------------------- 4.2/41.2 MB 2.1 MB/s eta 0:00:18\n",
      "   ---- ----------------------------------- 4.7/41.2 MB 2.1 MB/s eta 0:00:18\n",
      "   ----- ---------------------------------- 5.2/41.2 MB 2.1 MB/s eta 0:00:18\n",
      "   ----- ---------------------------------- 5.8/41.2 MB 2.1 MB/s eta 0:00:17\n",
      "   ----- ---------------------------------- 6.0/41.2 MB 2.1 MB/s eta 0:00:17\n",
      "   ------ --------------------------------- 6.6/41.2 MB 2.1 MB/s eta 0:00:17\n",
      "   ------ --------------------------------- 7.1/41.2 MB 2.1 MB/s eta 0:00:17\n",
      "   ------- -------------------------------- 7.3/41.2 MB 2.1 MB/s eta 0:00:16\n",
      "   ------- -------------------------------- 7.9/41.2 MB 2.1 MB/s eta 0:00:16\n",
      "   ------- -------------------------------- 8.1/41.2 MB 2.1 MB/s eta 0:00:16\n",
      "   -------- ------------------------------- 8.7/41.2 MB 2.1 MB/s eta 0:00:16\n",
      "   -------- ------------------------------- 8.9/41.2 MB 2.1 MB/s eta 0:00:16\n",
      "   --------- ------------------------------ 9.4/41.2 MB 2.1 MB/s eta 0:00:16\n",
      "   --------- ------------------------------ 10.0/41.2 MB 2.1 MB/s eta 0:00:16\n",
      "   ---------- ----------------------------- 10.5/41.2 MB 2.1 MB/s eta 0:00:15\n",
      "   ---------- ----------------------------- 10.7/41.2 MB 2.1 MB/s eta 0:00:15\n",
      "   ---------- ----------------------------- 11.3/41.2 MB 2.1 MB/s eta 0:00:15\n",
      "   ----------- ---------------------------- 11.8/41.2 MB 2.1 MB/s eta 0:00:15\n",
      "   ----------- ---------------------------- 12.1/41.2 MB 2.1 MB/s eta 0:00:14\n",
      "   ------------ --------------------------- 12.8/41.2 MB 2.1 MB/s eta 0:00:14\n",
      "   ------------ --------------------------- 13.1/41.2 MB 2.1 MB/s eta 0:00:14\n",
      "   ------------- -------------------------- 13.6/41.2 MB 2.1 MB/s eta 0:00:14\n",
      "   ------------- -------------------------- 14.2/41.2 MB 2.1 MB/s eta 0:00:13\n",
      "   -------------- ------------------------- 14.7/41.2 MB 2.1 MB/s eta 0:00:13\n",
      "   -------------- ------------------------- 15.2/41.2 MB 2.1 MB/s eta 0:00:13\n",
      "   --------------- ------------------------ 15.5/41.2 MB 2.1 MB/s eta 0:00:13\n",
      "   --------------- ------------------------ 16.0/41.2 MB 2.1 MB/s eta 0:00:12\n",
      "   ---------------- ----------------------- 16.5/41.2 MB 2.1 MB/s eta 0:00:12\n",
      "   ---------------- ----------------------- 17.0/41.2 MB 2.1 MB/s eta 0:00:12\n",
      "   ----------------- ---------------------- 17.6/41.2 MB 2.1 MB/s eta 0:00:12\n",
      "   ----------------- ---------------------- 17.8/41.2 MB 2.1 MB/s eta 0:00:11\n",
      "   ----------------- ---------------------- 18.4/41.2 MB 2.1 MB/s eta 0:00:11\n",
      "   ------------------ --------------------- 18.9/41.2 MB 2.1 MB/s eta 0:00:11\n",
      "   ------------------ --------------------- 19.4/41.2 MB 2.1 MB/s eta 0:00:11\n",
      "   ------------------ --------------------- 19.4/41.2 MB 2.1 MB/s eta 0:00:11\n",
      "   ------------------- -------------------- 19.7/41.2 MB 2.1 MB/s eta 0:00:11\n",
      "   ------------------- -------------------- 19.7/41.2 MB 2.1 MB/s eta 0:00:11\n",
      "   ------------------- -------------------- 20.2/41.2 MB 2.0 MB/s eta 0:00:11\n",
      "   ------------------- -------------------- 20.4/41.2 MB 2.0 MB/s eta 0:00:11\n",
      "   -------------------- ------------------- 21.0/41.2 MB 2.0 MB/s eta 0:00:10\n",
      "   --------------------- ------------------ 21.8/41.2 MB 2.1 MB/s eta 0:00:10\n",
      "   --------------------- ------------------ 22.3/41.2 MB 2.1 MB/s eta 0:00:10\n",
      "   ---------------------- ----------------- 23.1/41.2 MB 2.1 MB/s eta 0:00:09\n",
      "   ---------------------- ----------------- 23.3/41.2 MB 2.1 MB/s eta 0:00:09\n",
      "   ----------------------- ---------------- 23.9/41.2 MB 2.1 MB/s eta 0:00:09\n",
      "   ----------------------- ---------------- 24.1/41.2 MB 2.1 MB/s eta 0:00:09\n",
      "   ----------------------- ---------------- 24.4/41.2 MB 2.1 MB/s eta 0:00:09\n",
      "   ------------------------ --------------- 25.2/41.2 MB 2.1 MB/s eta 0:00:08\n",
      "   ------------------------ --------------- 25.4/41.2 MB 2.1 MB/s eta 0:00:08\n",
      "   ------------------------ --------------- 25.4/41.2 MB 2.1 MB/s eta 0:00:08\n",
      "   ------------------------ --------------- 25.7/41.2 MB 2.0 MB/s eta 0:00:08\n",
      "   ------------------------- -------------- 26.0/41.2 MB 2.0 MB/s eta 0:00:08\n",
      "   ------------------------- -------------- 26.2/41.2 MB 2.0 MB/s eta 0:00:08\n",
      "   ------------------------- -------------- 26.7/41.2 MB 2.0 MB/s eta 0:00:08\n",
      "   -------------------------- ------------- 27.0/41.2 MB 2.0 MB/s eta 0:00:08\n",
      "   -------------------------- ------------- 27.5/41.2 MB 2.0 MB/s eta 0:00:07\n",
      "   -------------------------- ------------- 27.8/41.2 MB 2.0 MB/s eta 0:00:07\n",
      "   --------------------------- ------------ 28.3/41.2 MB 2.0 MB/s eta 0:00:07\n",
      "   --------------------------- ------------ 28.6/41.2 MB 2.0 MB/s eta 0:00:07\n",
      "   --------------------------- ------------ 28.8/41.2 MB 2.0 MB/s eta 0:00:07\n",
      "   ---------------------------- ----------- 29.4/41.2 MB 2.0 MB/s eta 0:00:06\n",
      "   ---------------------------- ----------- 29.6/41.2 MB 2.0 MB/s eta 0:00:06\n",
      "   ---------------------------- ----------- 29.9/41.2 MB 2.0 MB/s eta 0:00:06\n",
      "   ----------------------------- ---------- 30.4/41.2 MB 2.0 MB/s eta 0:00:06\n",
      "   ------------------------------ --------- 31.2/41.2 MB 2.0 MB/s eta 0:00:05\n",
      "   ------------------------------ --------- 31.2/41.2 MB 2.0 MB/s eta 0:00:05\n",
      "   ------------------------------- -------- 32.0/41.2 MB 2.0 MB/s eta 0:00:05\n",
      "   ------------------------------- -------- 32.5/41.2 MB 2.0 MB/s eta 0:00:05\n",
      "   ------------------------------- -------- 32.5/41.2 MB 2.0 MB/s eta 0:00:05\n",
      "   ------------------------------- -------- 32.8/41.2 MB 2.0 MB/s eta 0:00:05\n",
      "   ------------------------------- -------- 32.8/41.2 MB 2.0 MB/s eta 0:00:05\n",
      "   -------------------------------- ------- 33.0/41.2 MB 1.9 MB/s eta 0:00:05\n",
      "   -------------------------------- ------- 33.3/41.2 MB 2.0 MB/s eta 0:00:05\n",
      "   -------------------------------- ------- 33.6/41.2 MB 1.9 MB/s eta 0:00:04\n",
      "   --------------------------------- ------ 34.1/41.2 MB 1.9 MB/s eta 0:00:04\n",
      "   --------------------------------- ------ 34.6/41.2 MB 1.9 MB/s eta 0:00:04\n",
      "   ---------------------------------- ----- 35.1/41.2 MB 2.0 MB/s eta 0:00:04\n",
      "   ---------------------------------- ----- 35.9/41.2 MB 2.0 MB/s eta 0:00:03\n",
      "   ----------------------------------- ---- 36.7/41.2 MB 2.0 MB/s eta 0:00:03\n",
      "   ----------------------------------- ---- 36.7/41.2 MB 2.0 MB/s eta 0:00:03\n",
      "   ------------------------------------ --- 37.2/41.2 MB 2.0 MB/s eta 0:00:03\n",
      "   ------------------------------------ --- 37.7/41.2 MB 2.0 MB/s eta 0:00:02\n",
      "   ------------------------------------ --- 38.0/41.2 MB 2.0 MB/s eta 0:00:02\n",
      "   ------------------------------------- -- 38.8/41.2 MB 2.0 MB/s eta 0:00:02\n",
      "   ------------------------------------- -- 39.1/41.2 MB 2.0 MB/s eta 0:00:02\n",
      "   -------------------------------------- - 39.6/41.2 MB 2.0 MB/s eta 0:00:01\n",
      "   -------------------------------------- - 40.1/41.2 MB 2.0 MB/s eta 0:00:01\n",
      "   ---------------------------------------  40.6/41.2 MB 2.0 MB/s eta 0:00:01\n",
      "   ---------------------------------------  40.9/41.2 MB 2.0 MB/s eta 0:00:01\n",
      "   ---------------------------------------  41.2/41.2 MB 2.0 MB/s eta 0:00:01\n",
      "   ---------------------------------------- 41.2/41.2 MB 2.0 MB/s eta 0:00:00\n",
      "Downloading threadpoolctl-3.6.0-py3-none-any.whl (18 kB)\n",
      "Installing collected packages: threadpoolctl, scipy, joblib, scikit-learn\n",
      "Successfully installed joblib-1.4.2 scikit-learn-1.6.1 scipy-1.15.2 threadpoolctl-3.6.0\n",
      "Note: you may need to restart the kernel to use updated packages.\n"
     ]
    }
   ],
   "source": [
    "pip install datasets scikit-learn"
   ]
  },
  {
   "cell_type": "code",
   "execution_count": 2,
   "metadata": {},
   "outputs": [],
   "source": [
    "import torch"
   ]
  },
  {
   "cell_type": "code",
   "execution_count": 3,
   "metadata": {},
   "outputs": [
    {
     "name": "stderr",
     "output_type": "stream",
     "text": [
      "c:\\Users\\agboo\\.conda\\envs\\openvino\\lib\\site-packages\\tqdm\\auto.py:21: TqdmWarning: IProgress not found. Please update jupyter and ipywidgets. See https://ipywidgets.readthedocs.io/en/stable/user_install.html\n",
      "  from .autonotebook import tqdm as notebook_tqdm\n"
     ]
    },
    {
     "name": "stdout",
     "output_type": "stream",
     "text": [
      "WARNING:tensorflow:From c:\\Users\\agboo\\.conda\\envs\\openvino\\lib\\site-packages\\tf_keras\\src\\losses.py:2976: The name tf.losses.sparse_softmax_cross_entropy is deprecated. Please use tf.compat.v1.losses.sparse_softmax_cross_entropy instead.\n",
      "\n"
     ]
    }
   ],
   "source": [
    "from transformers import (\n",
    "    GPT2Tokenizer, \n",
    "    GPT2LMHeadModel, \n",
    "    TrainingArguments, \n",
    "    Trainer, \n",
    "    DataCollatorForLanguageModeling\n",
    ")\n",
    "from datasets import load_dataset\n",
    "from sklearn.model_selection import train_test_split"
   ]
  },
  {
   "cell_type": "code",
   "execution_count": 5,
   "metadata": {},
   "outputs": [],
   "source": [
    "fd = load_dataset(\"FreedomIntelligence/medical-o1-reasoning-SFT\", \"en\") # Load the dataset\n",
    "ds = fd['train'].select(range(50)) # Adjusted to select the first 300 samples"
   ]
  },
  {
   "cell_type": "code",
   "execution_count": 6,
   "metadata": {},
   "outputs": [],
   "source": [
    "device = torch.device(\"cuda\" if torch.cuda.is_available() else \"cpu\")"
   ]
  },
  {
   "cell_type": "code",
   "execution_count": 8,
   "metadata": {},
   "outputs": [],
   "source": [
    "import os\n",
    "model_save_path = './medical_gpt2_finetuned'\n",
    "os.makedirs(model_save_path, exist_ok=True)"
   ]
  },
  {
   "cell_type": "code",
   "execution_count": 9,
   "metadata": {},
   "outputs": [],
   "source": [
    "# Preprocess the dataset\n",
    "def preprocess_data(examples):\n",
    "    # Combine input and output for fine-tuning\n",
    "    texts = [f\"Input: {inp}\\nOutput: {out}\" for inp, out in zip(examples['Question'], examples['Response'])]\n",
    "    return {\"text\": texts}"
   ]
  },
  {
   "cell_type": "code",
   "execution_count": 13,
   "metadata": {},
   "outputs": [],
   "source": [
    "# Apply preprocessing\n",
    "processed_dataset = ds.map(preprocess_data, batched=True, remove_columns=ds.column_names)\n"
   ]
  },
  {
   "cell_type": "code",
   "execution_count": 11,
   "metadata": {},
   "outputs": [
    {
     "data": {
      "text/plain": [
       "['Question', 'Complex_CoT', 'Response']"
      ]
     },
     "execution_count": 11,
     "metadata": {},
     "output_type": "execute_result"
    }
   ],
   "source": [
    "ds.column_names"
   ]
  },
  {
   "cell_type": "code",
   "execution_count": 14,
   "metadata": {},
   "outputs": [
    {
     "name": "stdout",
     "output_type": "stream",
     "text": [
      "Training size: 40, Validation size: 10\n"
     ]
    }
   ],
   "source": [
    "from datasets import Dataset\n",
    "\n",
    "train_data = processed_dataset.to_list()\n",
    "train_data, val_data = train_test_split(train_data, test_size=0.2, random_state=42)\n",
    "\n",
    "\n",
    "train_dataset = Dataset.from_list(train_data)\n",
    "val_dataset = Dataset.from_list(val_data)\n",
    "\n",
    "print(f\"Training size: {len(train_dataset)}, Validation size: {len(val_dataset)}\")"
   ]
  },
  {
   "cell_type": "code",
   "execution_count": 15,
   "metadata": {},
   "outputs": [],
   "source": [
    "# Load tokenizer and model\n",
    "model_name = 'gpt2'\n",
    "tokenizer = GPT2Tokenizer.from_pretrained(model_name)\n",
    "tokenizer.pad_token = tokenizer.eos_token\n",
    "model = GPT2LMHeadModel.from_pretrained(model_name).to(device)"
   ]
  },
  {
   "cell_type": "code",
   "execution_count": 16,
   "metadata": {},
   "outputs": [
    {
     "name": "stderr",
     "output_type": "stream",
     "text": [
      "Map: 100%|██████████| 40/40 [00:00<00:00, 77.05 examples/s]\n",
      "Map: 100%|██████████| 10/10 [00:00<00:00, 42.95 examples/s]\n"
     ]
    }
   ],
   "source": [
    "# Tokenize datasets\n",
    "def tokenize_function(examples):\n",
    "    return tokenizer(\n",
    "        examples['text'], \n",
    "        truncation=True, \n",
    "        padding='max_length', \n",
    "        max_length=512\n",
    "    )\n",
    "\n",
    "train_tokenized = train_dataset.map(tokenize_function, batched=True, remove_columns=[\"text\"])\n",
    "val_tokenized = val_dataset.map(tokenize_function, batched=True, remove_columns=[\"text\"])"
   ]
  },
  {
   "cell_type": "code",
   "execution_count": 17,
   "metadata": {},
   "outputs": [],
   "source": [
    "# Data collator\n",
    "data_collator = DataCollatorForLanguageModeling(tokenizer=tokenizer, mlm=False)"
   ]
  },
  {
   "cell_type": "code",
   "execution_count": 18,
   "metadata": {},
   "outputs": [
    {
     "name": "stderr",
     "output_type": "stream",
     "text": [
      "c:\\Users\\agboo\\.conda\\envs\\openvino\\lib\\site-packages\\transformers\\training_args.py:1611: FutureWarning: `evaluation_strategy` is deprecated and will be removed in version 4.46 of 🤗 Transformers. Use `eval_strategy` instead\n",
      "  warnings.warn(\n"
     ]
    }
   ],
   "source": [
    "# Training arguments\n",
    "training_args = TrainingArguments(\n",
    "    output_dir=model_save_path,\n",
    "    overwrite_output_dir=True,\n",
    "    num_train_epochs=3,\n",
    "    per_device_train_batch_size=2,\n",
    "    per_device_eval_batch_size=2,\n",
    "    learning_rate=5e-5,\n",
    "    weight_decay=0.01,\n",
    "    logging_steps=10,\n",
    "    save_steps=500,\n",
    "    save_total_limit=2,\n",
    "    evaluation_strategy=\"steps\",\n",
    "    eval_steps=50,\n",
    "    load_best_model_at_end=True,\n",
    "    metric_for_best_model=\"loss\",\n",
    "    fp16=torch.cuda.is_available(),\n",
    ")\n",
    "\n",
    "# Initialize Trainer\n",
    "trainer = Trainer(\n",
    "    model=model,\n",
    "    args=training_args,\n",
    "    train_dataset=train_tokenized,\n",
    "    eval_dataset=val_tokenized,\n",
    "    data_collator=data_collator,\n",
    ")\n",
    "\n"
   ]
  },
  {
   "cell_type": "code",
   "execution_count": 19,
   "metadata": {},
   "outputs": [
    {
     "name": "stderr",
     "output_type": "stream",
     "text": [
      "`loss_type=None` was set in the config but it is unrecognised.Using the default loss: `ForCausalLMLoss`.\n"
     ]
    },
    {
     "data": {
      "text/html": [
       "\n",
       "    <div>\n",
       "      \n",
       "      <progress value='60' max='60' style='width:300px; height:20px; vertical-align: middle;'></progress>\n",
       "      [60/60 15:14, Epoch 3/3]\n",
       "    </div>\n",
       "    <table border=\"1\" class=\"dataframe\">\n",
       "  <thead>\n",
       " <tr style=\"text-align: left;\">\n",
       "      <th>Step</th>\n",
       "      <th>Training Loss</th>\n",
       "      <th>Validation Loss</th>\n",
       "    </tr>\n",
       "  </thead>\n",
       "  <tbody>\n",
       "    <tr>\n",
       "      <td>50</td>\n",
       "      <td>2.410800</td>\n",
       "      <td>2.603300</td>\n",
       "    </tr>\n",
       "  </tbody>\n",
       "</table><p>"
      ],
      "text/plain": [
       "<IPython.core.display.HTML object>"
      ]
     },
     "metadata": {},
     "output_type": "display_data"
    },
    {
     "name": "stdout",
     "output_type": "stream",
     "text": [
      "Training completed and model saved!\n"
     ]
    }
   ],
   "source": [
    "# Train with early stopping (implicit via load_best_model_at_end)\n",
    "trainer.train()\n",
    "\n",
    "# Save the fine-tuned model and tokenizer\n",
    "model.save_pretrained(model_save_path)\n",
    "tokenizer.save_pretrained(model_save_path)\n",
    "print(\"Training completed and model saved!\")"
   ]
  },
  {
   "cell_type": "code",
   "execution_count": 20,
   "metadata": {},
   "outputs": [
    {
     "name": "stderr",
     "output_type": "stream",
     "text": [
      "Device set to use cpu\n"
     ]
    },
    {
     "name": "stdout",
     "output_type": "stream",
     "text": [
      "\n",
      "Prompt: Question: What are the symptoms of\n",
      "Generated Text: Question: What are the symptoms of posttraumatic stress disorder?\n",
      "Output: This is a diagnosis that can be made at any age. In this case, PTSD requires immediate attention and treatment by an experienced psychiatric professional to resolve problems associated with trauma including depression, anxiety, fear, panic attacks or paranoia during difficult times such as emergency situations where mental health conditions have become too overwhelming for coping appropriately.[1] While there may not be sufficient physical evidence in most cases indicating specific underlying psychological issues related specifically back pain (as reported previously), it would certainly help if someone was experiencing some form from what they've described above about their emotional state after witnessing these events on television—such as hearing voices yelling \"Help!\" versus standing up straight-up without looking down; seeing other people's faces while talking loudly over them due either reflexes toward approaching others based upon facial expressions like you're going out loud,[2][3], feeling helpless despite knowing your partner has been injured[4])[/5?] And considering how\n",
      "\n",
      "Prompt: Question: Explain the treatment for\n",
      "Generated Text: Question: Explain the treatment for rheumatoid arthritis (RA) with a placebo in an outpatient setting and what is recommended?\n",
      "Output: The most common approach used to treat RA patients without any significant side effects, such as muscle weakness or pain associated from repetitive movements on their limbs at rest, will be using antihistamines. In addition there are other medications that can enhance recovery after physical therapy including steroids administered by IV antibiotics; however these drugs typically do not work well enough due primarily to lack of analgesia during exercise resulting into decreased blood flow through muscles leading to increased risk for further injury when doing so.[1] As you would expect given your history of acute shoulder injuries,[2], this combination could have beneficial outcomes over time but it remains unclear how effective they really become compared against traditional treatments like aspirin alone—a commonly prescribed medication based around reducing inflammation while decreasing body weight[3]. It's worth noting though that if systemic administration does improve symptoms following surgery rather than worsening them later upon discontin\n",
      "\n",
      "Prompt: Question: Describe the diagnosis of\n",
      "Generated Text: Question: Describe the diagnosis of a non-severe form such as an enlarged prostate or rectum, which is often associated with cancer?\n",
      "Output: In this case, diagnosed patients have not been provided any specific treatment options that would alleviate their symptoms and require further care. Given these findings, what are your next steps in managing stressors like headaches during pregnancy to minimize risk for developing additional cancers later on in life? What can you do when faced by stressful situations over time without adequate medical help at all times?\n",
      "\n",
      "Source(s): The following questions were posed using standardized tests developed specifically designed to test potential side effects related particularly to medications used while pregnant women (for example antihypertensive drugs). Based upon clinical experience alone, it's highly likely they're also being given aspirin based medication because both may reduce pain compared against other known analgesics; however research has shown no benefit from taking either drug if taken before birth since there aren't enough available evidence supporting its effectiveness versus placebo.[/quote\n"
     ]
    }
   ],
   "source": [
    "# Generate text\n",
    "from transformers import pipeline\n",
    "\n",
    "generator = pipeline('text-generation', model=model_save_path, tokenizer=model_save_path)\n",
    "\n",
    "# Test prompts\n",
    "test_prompts = [\n",
    "    \"Question: What are the symptoms of\",\n",
    "    \"Question: Explain the treatment for\",\n",
    "    \"Question: Describe the diagnosis of\"\n",
    "]\n",
    "\n",
    "for prompt in test_prompts:\n",
    "    output = generator(\n",
    "        prompt,\n",
    "        max_length=200,\n",
    "        temperature=0.7,\n",
    "        top_k=50,\n",
    "        top_p=0.9,\n",
    "        repetition_penalty=1.2,\n",
    "        do_sample=True,\n",
    "        truncation=True\n",
    "    )\n",
    "    print(f\"\\nPrompt: {prompt}\")\n",
    "    print(f\"Generated Text: {output[0]['generated_text']}\")"
   ]
  }
 ],
 "metadata": {
  "kernelspec": {
   "display_name": "openvino",
   "language": "python",
   "name": "python3"
  },
  "language_info": {
   "codemirror_mode": {
    "name": "ipython",
    "version": 3
   },
   "file_extension": ".py",
   "mimetype": "text/x-python",
   "name": "python",
   "nbconvert_exporter": "python",
   "pygments_lexer": "ipython3",
   "version": "3.10.16"
  }
 },
 "nbformat": 4,
 "nbformat_minor": 2
}
